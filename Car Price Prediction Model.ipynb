# Importing the Dependencies
import pandas as pd
import matplotlib.pyplot as plt
import seaborn as sns
from sklearn.model_selection import train_test_split
from sklearn.linear_model import LinearRegression
from sklearn.linear_model import Lasso
from sklearn import metrics

# Sample US car dataset to simulate switching cars and metrics
data = {
    'Car_Name': ['Ford F-150', 'Chevrolet Silverado', 'Tesla Model 3', 'Jeep Wrangler', 'Honda Accord'],
    'Year': [2018, 2017, 2020, 2016, 2019],
    'Selling_Price': [25000, 23000, 35000, 27000, 22000],  # in US dollars
    'Present_Price': [32000, 30000, 40000, 35000, 28000],  # in US dollars
    'Kms_Driven': [50000, 60000, 15000, 45000, 40000],  # converting to miles (1 km = 0.621371 miles)
    'Fuel_Type': ['Gasoline', 'Diesel', 'Electric', 'Gasoline', 'Gasoline'],
    'Seller_Type': ['Dealer', 'Individual', 'Dealer', 'Individual', 'Dealer'],
    'Transmission': ['Automatic', 'Manual', 'Automatic', 'Manual', 'Automatic'],
    'Owner': [0, 1, 0, 0, 0]
}

# Creating a pandas DataFrame to simulate the dataset
car_dataset = pd.DataFrame(data)

# Adjust the kilometers driven to miles (1 km = 0.621371 miles)
car_dataset['Kms_Driven'] = car_dataset['Kms_Driven'] * 0.621371
car_dataset.rename(columns={'Kms_Driven': 'Miles_Driven'}, inplace=True)

# Inspecting the first few rows of the updated dataframe
print(car_dataset.head())

# Checking the number of rows and columns
print(car_dataset.shape)

# Encoding the categorical data (Fuel_Type, Seller_Type, Transmission)
car_dataset.replace({'Fuel_Type': {'Gasoline': 0, 'Diesel': 1, 'Electric': 2}}, inplace=True)
car_dataset.replace({'Seller_Type': {'Dealer': 0, 'Individual': 1}}, inplace=True)
car_dataset.replace({'Transmission': {'Manual': 0, 'Automatic': 1}}, inplace=True)

# Splitting the data into features (X) and target (Y)
X = car_dataset.drop(['Car_Name', 'Selling_Price'], axis=1)
Y = car_dataset['Selling_Price']

# Splitting the dataset into training and testing sets
X_train, X_test, Y_train, Y_test = train_test_split(X, Y, test_size=0.1, random_state=2)

# Training the Linear Regression Model
lin_reg_model = LinearRegression()
lin_reg_model.fit(X_train, Y_train)

# Evaluate Linear Regression Model
train_pred = lin_reg_model.predict(X_train)
train_r2_score = metrics.r2_score(Y_train, train_pred)
print(f"Linear Regression - Training R squared Error: {train_r2_score}")

# Visualizing Training Data Predictions
plt.scatter(Y_train, train_pred)
plt.xlabel("Actual Price")
plt.ylabel("Predicted Price")
plt.title("Linear Regression: Actual Prices vs Predicted Prices (Training Data)")
plt.show()

# Predicting Test Data and Evaluating the Model
test_pred = lin_reg_model.predict(X_test)
test_r2_score = metrics.r2_score(Y_test, test_pred)
print(f"Linear Regression - Test R squared Error: {test_r2_score}")

# Visualizing Test Data Predictions
plt.scatter(Y_test, test_pred)
plt.xlabel("Actual Price")
plt.ylabel("Predicted Price")
plt.title("Linear Regression: Actual Prices vs Predicted Prices (Test Data)")
plt.show()

# Training the Lasso Regression Model
lasso_reg_model = Lasso()
lasso_reg_model.fit(X_train, Y_train)

# Evaluate Lasso Model
lasso_train_pred = lasso_reg_model.predict(X_train)
lasso_train_r2_score = metrics.r2_score(Y_train, lasso_train_pred)
print(f"Lasso Regression - Training R squared Error: {lasso_train_r2_score}")

# Visualizing Training Data Predictions for Lasso
plt.scatter(Y_train, lasso_train_pred)
plt.xlabel("Actual Price")
plt.ylabel("Predicted Price")
plt.title("Lasso Regression: Actual Prices vs Predicted Prices (Training Data)")
plt.show()

# Predicting Test Data and Evaluating Lasso Model
lasso_test_pred = lasso_reg_model.predict(X_test)
lasso_test_r2_score = metrics.r2_score(Y_test, lasso_test_pred)
print(f"Lasso Regression - Test R squared Error: {lasso_test_r2_score}")

# Visualizing Test Data Predictions for Lasso
plt.scatter(Y_test, lasso_test_pred)
plt.xlabel("Actual Price")
plt.ylabel("Predicted Price")
plt.title("Lasso Regression: Actual Prices vs Predicted Prices (Test Data)")
plt.show()
